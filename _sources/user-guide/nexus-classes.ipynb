{
 "cells": [
  {
   "cell_type": "markdown",
   "id": "0",
   "metadata": {
    "tags": []
   },
   "source": [
    "# NeXus classes\n",
    "\n",
    "## Overview\n",
    "\n",
    "NeXus provides a substantial number of [base class definitions](https://manual.nexusformat.org/classes/base_classes/index.html#base-class-definitions).\n",
    "At this point ScippNexus supports only a very limited number of these.\n",
    "Furthermore, not all features of each class definition are implemented.\n",
    "The class of a group is read from the group's `'NX_class'` attribute.\n",
    "\n",
    "The following table gives an overview of the most important supported classes.\n",
    "There are roughly two categories of classes, those that contain data and can be read as a `scipp.DataArray` (for example NXdata), and those that mostly serve as groups for nested classes (for example NXentry containing NXdata):"
   ]
  },
  {
   "cell_type": "markdown",
   "id": "1",
   "metadata": {},
   "source": [
    "NeXus class | read as | comment | NeXus specification\n",
    ":--- |:--- |:--- |:---\n",
    "[NXdata](../generated/classes/scippnexus.NXdata.rst) | scipp.DataArray | [example below](#NXdata) | [link](https://manual.nexusformat.org/classes/base_classes/NXdata.html)\n",
    "[NXdetector](../generated/classes/scippnexus.NXdetector.rst) | scipp.DataGroup wrapping scipp.DataArray | [example below](#NXdetector) | [link](https://manual.nexusformat.org/classes/base_classes/NXdetector.html)\n",
    "[NXdisk_chopper](../generated/classes/scippnexus.NXdisk_chopper.rst) | scipp.DataGroup || [link](https://manual.nexusformat.org/classes/base_classes/NXdisk_chopper.html)\n",
    "[NXentry](../generated/classes/scippnexus.NXentry.rst) | scipp.DataGroup | [generic group-like](#Base-class:-NXobject) | [link](https://manual.nexusformat.org/classes/base_classes/NXentry.html)\n",
    "[NXevent_data](../generated/classes/scippnexus.NXevent_data.rst) | scipp.DataArray | [example below](#NXevent_data) | [link](https://manual.nexusformat.org/classes/base_classes/NXevent_data.html)\n",
    "[NXinstrument](../generated/classes/scippnexus.NXinstrument.rst) | scipp.DataGroup | [generic group-like](#Base-class:-NXobject) | [link](https://manual.nexusformat.org/classes/base_classes/NXinstrument.html)\n",
    "[NXlog](../generated/classes/scippnexus.NXlog.rst) | scipp.DataArray | [example below](#NXlog) | [link](https://manual.nexusformat.org/classes/base_classes/NXlog.html)\n",
    "[NXmonitor](../generated/classes/scippnexus.NXmonitor.rst) | scipp.DataGroup wrapping scipp.DataArray | [example below](#NXmonitor) | [link](https://manual.nexusformat.org/classes/base_classes/NXmonitor.html)\n",
    "[NXroot](../generated/classes/scippnexus.NXroot.rst) | scipp.DataGroup | [generic group-like](#Base-class:-NXobject) | [link](https://manual.nexusformat.org/classes/base_classes/NXroot.html)\n",
    "[NXsample](../generated/classes/scippnexus.NXsample.rst) | scipp.DataGroup || [link](https://manual.nexusformat.org/classes/base_classes/NXsample.html)\n",
    "[NXsource](../generated/classes/scippnexus.NXsource.rst) | scipp.DataGroup || [link](https://manual.nexusformat.org/classes/base_classes/NXsource.html)\n",
    "[NXtransformations](../generated/classes/scippnexus.NXtransformations.rst) | scipp.DataGroup | [generic group-like](#Base-class:-NXobject) | [link](https://manual.nexusformat.org/classes/base_classes/NXtransformations.html)"
   ]
  },
  {
   "cell_type": "markdown",
   "id": "2",
   "metadata": {
    "tags": []
   },
   "source": [
    "Any class that is not explicitly supported will be loaded as a `scipp.DataGroup` as well.\n",
    "\n",
    "For the examples below we use a file from the ScippNexus sample data:"
   ]
  },
  {
   "cell_type": "code",
   "execution_count": null,
   "id": "3",
   "metadata": {},
   "outputs": [],
   "source": [
    "from scippnexus import data\n",
    "import scippnexus as snx\n",
    "\n",
    "filename = data.get_path('PG3_4844_event.nxs')\n",
    "f = snx.File(filename)"
   ]
  },
  {
   "cell_type": "markdown",
   "id": "4",
   "metadata": {
    "tags": []
   },
   "source": [
    "## Base class: NXobject\n",
    "\n",
    "Base of all other NeXus classes.\n",
    "Provides a generic group-like interface.\n",
    "That is, this is equivalent to a dictionary of fields and/or other groups.\n",
    "\n",
    "NeXus classes that group other information but cannot be read as a data array provide this interface.\n",
    "Such groups will be loaded as `scipp.DataGroup` when loaded:"
   ]
  },
  {
   "cell_type": "code",
   "execution_count": null,
   "id": "5",
   "metadata": {},
   "outputs": [],
   "source": [
    "tree = f['entry/instrument'][()]\n",
    "tree"
   ]
  },
  {
   "cell_type": "markdown",
   "id": "6",
   "metadata": {
    "tags": []
   },
   "source": [
    "## NXdata\n",
    "\n",
    "Provides multi-dimensional labeled data.\n",
    "See the NeXus format [NXdata base class definition](https://manual.nexusformat.org/classes/base_classes/NXdata.html) for details.\n",
    "Can be read as a data array using positional indexing.\n",
    "\n",
    "Example:"
   ]
  },
  {
   "cell_type": "code",
   "execution_count": null,
   "id": "7",
   "metadata": {},
   "outputs": [],
   "source": [
    "data = f['entry/bank103']\n",
    "data"
   ]
  },
  {
   "cell_type": "code",
   "execution_count": null,
   "id": "8",
   "metadata": {},
   "outputs": [],
   "source": [
    "data['x_pixel_offset', :10]"
   ]
  },
  {
   "cell_type": "markdown",
   "id": "9",
   "metadata": {
    "tags": []
   },
   "source": [
    "## NXdetector\n",
    "\n",
    "Provides data for a detector.\n",
    "See the NeXus format [NXdetector base class definition](https://manual.nexusformat.org/classes/base_classes/NXdetector.html) for details.\n",
    "`NXdetector` contains data and coords similar to `NXdata` as well as additional fields that are not readily inserted into a `scipp.DataArray`.\n",
    "Therefore, `NXdetector` can be read as a `scipp.DataGroup` wrapping a `scipp.DataArray` using positional indexing.\n",
    "The \"signal\" field and associated coordinates are combined into a `scipp.DataArray` and the remaining fields are added as fields to the `scipp.DataGroup`.\n",
    "In the output, the `scipp.DataArray` has the same name as the \"signal\" dataset in the NeXus file.\n",
    "The underlying data may be dense data or event data.\n",
    "\n",
    "Example:"
   ]
  },
  {
   "cell_type": "code",
   "execution_count": null,
   "id": "10",
   "metadata": {},
   "outputs": [],
   "source": [
    "detector = f['entry/instrument/bank102']\n",
    "detector"
   ]
  },
  {
   "cell_type": "code",
   "execution_count": null,
   "id": "11",
   "metadata": {},
   "outputs": [],
   "source": [
    "det = detector[...]\n",
    "det"
   ]
  },
  {
   "cell_type": "markdown",
   "id": "12",
   "metadata": {},
   "source": [
    "In this example both dense data (\"data_x\") and event data (\"events\") are present:"
   ]
  },
  {
   "cell_type": "code",
   "execution_count": null,
   "id": "13",
   "metadata": {},
   "outputs": [],
   "source": [
    "det['data_x_y']"
   ]
  },
  {
   "cell_type": "code",
   "execution_count": null,
   "id": "14",
   "metadata": {},
   "outputs": [],
   "source": [
    "det['events']"
   ]
  },
  {
   "cell_type": "markdown",
   "id": "15",
   "metadata": {},
   "source": [
    "If the underlying data is event data, the underlying event data can be selected using the special `event_time_zero` dimension.\n",
    "This dimension is present in the underlying `NXevent_data` group, but not preserved after loading and binning by pixels due to the prohibitive size.\n",
    "For example, we can select the first 1000 pulses and load data for all pixels:"
   ]
  },
  {
   "cell_type": "code",
   "execution_count": null,
   "id": "16",
   "metadata": {},
   "outputs": [],
   "source": [
    "detector['event_time_zero', :1000]"
   ]
  },
  {
   "cell_type": "markdown",
   "id": "17",
   "metadata": {},
   "source": [
    "<div class=\"alert alert-info\">\n",
    "    <b>Note:</b>\n",
    "\n",
    "Selecting a range of events allows for loading only a potentially very small section of the underlying event data and can thus be very fast.\n",
    "\n",
    "In contrast, e.g., selecting a small range of pixels in presence of underlying event data is *not* fast, since the events for all pixels are stored in the order as they arrive in the acquisition system and the entire [NXevent_data](#NXevent_data) group must be loaded.\n",
    "\n",
    "</div>"
   ]
  },
  {
   "cell_type": "markdown",
   "id": "18",
   "metadata": {
    "tags": []
   },
   "source": [
    "## NXevent_data\n",
    "\n",
    "Provides event data in raw format as produced by the acquisition system, i.e., not grouped into detector pixels.\n",
    "See the NeXus format [NXevent_data base class definition](https://manual.nexusformat.org/classes/base_classes/NXevent_data.html) for details.\n",
    "Can be read as a data array using slicing syntax.\n",
    "\n",
    "Example:"
   ]
  },
  {
   "cell_type": "code",
   "execution_count": null,
   "id": "19",
   "metadata": {},
   "outputs": [],
   "source": [
    "event_data = f['entry/bank102_events']\n",
    "event_data[...]"
   ]
  },
  {
   "cell_type": "markdown",
   "id": "20",
   "metadata": {},
   "source": [
    "In some cases the event data fields may be contained directly within an [NXdetector](#NXdetector).\n",
    "The event data can also be accessed from there:"
   ]
  },
  {
   "cell_type": "code",
   "execution_count": null,
   "id": "21",
   "metadata": {},
   "outputs": [],
   "source": [
    "f['entry/instrument/bank102']['events'][...]"
   ]
  },
  {
   "cell_type": "markdown",
   "id": "22",
   "metadata": {
    "tags": []
   },
   "source": [
    "## NXlog\n",
    "\n",
    "Provides a  time-series log.\n",
    "See the NeXus format [NXlog base class definition](https://manual.nexusformat.org/classes/base_classes/NXlog.html) for details.\n",
    "Can be read as a data array using positional indexing.\n",
    "\n",
    "Example:"
   ]
  },
  {
   "cell_type": "code",
   "execution_count": null,
   "id": "23",
   "metadata": {},
   "outputs": [],
   "source": [
    "proton_charge = f['/entry/DASlogs/proton_charge']\n",
    "proton_charge"
   ]
  },
  {
   "cell_type": "code",
   "execution_count": null,
   "id": "24",
   "metadata": {},
   "outputs": [],
   "source": [
    "proton_charge[...]"
   ]
  },
  {
   "cell_type": "markdown",
   "id": "25",
   "metadata": {
    "tags": []
   },
   "source": [
    "## NXmonitor\n",
    "\n",
    "Provides data for a beam monitor.\n",
    "See the NeXus format [NXmonitor base class definition](https://manual.nexusformat.org/classes/base_classes/NXmonitor.html) for details.\n",
    "Can be read as a `scipp.DataGroup` holding a `scipp.DataArray` using positional indexing, similar to `NXdetector`.\n",
    "\n",
    "Example:"
   ]
  },
  {
   "cell_type": "code",
   "execution_count": null,
   "id": "26",
   "metadata": {},
   "outputs": [],
   "source": [
    "monitor = f['entry/monitor1']\n",
    "mon = monitor[...]\n",
    "mon"
   ]
  },
  {
   "cell_type": "code",
   "execution_count": null,
   "id": "27",
   "metadata": {},
   "outputs": [],
   "source": [
    "mon['data']"
   ]
  }
 ],
 "metadata": {
  "kernelspec": {
   "display_name": "Python 3 (ipykernel)",
   "language": "python",
   "name": "python3"
  },
  "language_info": {
   "codemirror_mode": {
    "name": "ipython",
    "version": 3
   },
   "file_extension": ".py",
   "mimetype": "text/x-python",
   "name": "python",
   "nbconvert_exporter": "python",
   "pygments_lexer": "ipython3",
   "version": "3.8.16"
  }
 },
 "nbformat": 4,
 "nbformat_minor": 5
}
