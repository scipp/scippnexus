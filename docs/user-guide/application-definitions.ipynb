{
 "cells": [
  {
   "cell_type": "markdown",
   "id": "0",
   "metadata": {},
   "source": [
    "# Application Definitions"
   ]
  },
  {
   "cell_type": "markdown",
   "id": "1",
   "metadata": {},
   "source": [
    "## Overview\n",
    "\n",
    "[NeXus Application Definitions](https://manual.nexusformat.org/classes/applications/index.html) define mandatory and optional class contents for specific applications.\n",
    "ScippNexus' approach to application definitions is to consider them as a guide, without performing full validation.\n",
    "This is to avoid getting in the way of the library user, e.g., when working with incomplete or partially broken files.\n",
    "For example, ScippNexus will generally not validate that the tree structure conforms to a given application definition."
   ]
  },
  {
   "cell_type": "markdown",
   "id": "2",
   "metadata": {},
   "source": [
    "<div class=\"alert alert-warning\">\n",
    "    <b>Warning:</b>\n",
    "\n",
    "ScippNexus' support for application definitions is currently experimental and the API is still subject to changes.\n",
    "\n",
    "</div>"
   ]
  },
  {
   "cell_type": "markdown",
   "id": "3",
   "metadata": {},
   "source": [
    "Definitions provide customization points, e.g., for how ScippNexus can find required information in the HDF5 group, and how contents are mapped to aspects of the returned data (typically a `scipp.DataArray` or `scipp.DataGroup`).\n",
    "\n",
    "Definitions in ScippNexus are subclasses of [NXobject](../generated/classes/scippnexus.NXobject.html#scippnexus.NXobject).\n",
    "A `definitions` mapping passed to `snx.File` serves as a repository of definitions that `snx.Group` will use when opening a group in a file.\n",
    "`snx.base_definitions()` is used by default.\n",
    "The `NX_class` attribute of the HDF5 group is used as a key into the `definitions` mapping.\n",
    "It provides subclasses such as `NXlog`, `NXdata`, and `NXdetector`.\n",
    "\n",
    "Users can implement their application definition (or any definition) by subclassing `NXobject`, or one of the existing base-class definitions."
   ]
  },
  {
   "cell_type": "markdown",
   "id": "4",
   "metadata": {},
   "source": [
    "## Writing files\n",
    "\n",
    "Skip ahead to [Reading files](#Reading-files) if you simply want to customize how data is read from existing files.\n",
    "ScippNexus provides a customization point for writing content to NeXus files with `__setitem__`.\n",
    "The requirements are that the value\n",
    "\n",
    "1. provides an `nx_class` attribute that returns a valid NeXus class name such as `'NXdata'` or `scippnexus.NXdata` and\n",
    "2. defines the `__write_to_nexus_group__` method that takes a `h5py.Group`, i.e., an open HDF5 group, as its single argument.\n",
    "\n",
    "`__write_to_nexus_group__` may then write its content to this group.\n",
    "This can (and should) make use of ScippNexus features for writing Nexus fields (HDF5 datasets) from a `scipp.Variable` via `snx.create_field`, such as automatic writing of the `units` attribute, or writing `datetime64` data.\n",
    "Consider the following example:"
   ]
  },
  {
   "cell_type": "code",
   "execution_count": null,
   "id": "5",
   "metadata": {},
   "outputs": [],
   "source": [
    "import h5py\n",
    "import scipp as sc\n",
    "import scippnexus as snx\n",
    "\n",
    "\n",
    "class MyData:\n",
    "    nx_class = snx.NXdata  # required\n",
    "\n",
    "    def __init__(self, data: sc.DataArray):\n",
    "        self._data = data\n",
    "\n",
    "    def __write_to_nexus_group__(self, group: h5py.Group):  # required\n",
    "        group.attrs['axes'] = self._data.dims  # NeXus way of defining dim labels\n",
    "        snx.create_field(group, 'mysignal', self._data.data)"
   ]
  },
  {
   "cell_type": "markdown",
   "id": "6",
   "metadata": {},
   "source": [
    "Note that above we use a custom \"signal\" name and do not to set the \"signal\" attribute on the group and as such deviate from the NeXus specification.\n",
    "We can then write our data using:"
   ]
  },
  {
   "cell_type": "code",
   "execution_count": null,
   "id": "7",
   "metadata": {},
   "outputs": [],
   "source": [
    "mydata = sc.DataArray(sc.arange('x', 5, unit='s'))\n",
    "\n",
    "with snx.File('test.nxs', 'w') as f:\n",
    "    f['data'] = MyData(mydata)"
   ]
  },
  {
   "cell_type": "markdown",
   "id": "8",
   "metadata": {},
   "source": [
    "You can also manually write nexus classes to a hdf5 dataset with `snx.create_class`: "
   ]
  },
  {
   "cell_type": "code",
   "execution_count": null,
   "id": "9",
   "metadata": {},
   "outputs": [],
   "source": [
    "with h5py.File('test2.nxs', mode='w') as f:\n",
    "    nxdata = snx.create_class(f, 'data', nx_class=snx.NXdata)\n",
    "    nxdata.attrs['axes'] = mydata.dims\n",
    "    snx.create_field(nxdata, 'mysignal', mydata.data)"
   ]
  },
  {
   "cell_type": "code",
   "execution_count": null,
   "id": "10",
   "metadata": {},
   "outputs": [],
   "source": [
    "%%bash\n",
    "# The files created above are identical\n",
    "cmp -s test.nxs test2.nxs"
   ]
  },
  {
   "cell_type": "markdown",
   "id": "11",
   "metadata": {
    "tags": []
   },
   "source": [
    "## Reading files\n",
    "\n",
    "### Overview\n",
    "\n",
    "For some application definitions &mdash; or classes within application definitions &mdash; the default ScippNexus mechanisms for reading are sufficient.\n",
    "This is the case when the application definition follows the NeXus standard and, e.g., introduces no new attributes.\n",
    "\n",
    "In other cases we require customization of how ScippNexus reads class contents.\n",
    "This is handled using *definitions* that can be passed to `snx.File` or `snx.Group`.\n",
    "\n",
    "As an example, consider the following simple definition for loading data with a custom signal name, which the file failed to specify.\n",
    "In this particular case we subclass `snx.NXdata`, and pass a custom argument to its `__init__`.\n",
    "In general this is rarely sufficient, and in practice a definition may need to implement other parts of the `snx.NXobject` interface:"
   ]
  },
  {
   "cell_type": "code",
   "execution_count": null,
   "id": "12",
   "metadata": {},
   "outputs": [],
   "source": [
    "class MyDataDefinition(snx.NXdata):\n",
    "    def __init__(self, attrs, children):\n",
    "        super().__init__(\n",
    "            attrs=attrs, children=children, fallback_signal_name='mysignal'\n",
    "        )\n",
    "\n",
    "\n",
    "my_definitions = snx.base_definitions()\n",
    "my_definitions['NXdata'] = MyDataDefinition"
   ]
  },
  {
   "cell_type": "markdown",
   "id": "13",
   "metadata": {},
   "source": [
    "We can then load our file (created above in [Writing files](#Writing-files)) by our custom definitions to `snx.File`:"
   ]
  },
  {
   "cell_type": "code",
   "execution_count": null,
   "id": "14",
   "metadata": {},
   "outputs": [],
   "source": [
    "with snx.File('test.nxs', 'r', definitions=my_definitions) as f:\n",
    "    loaded = f['data'][...]\n",
    "loaded"
   ]
  },
  {
   "cell_type": "markdown",
   "id": "15",
   "metadata": {},
   "source": [
    "ScippNexus does currently not ship with a library of application definitions.\n",
    "Custom definitions can be provided by a user as outlined above."
   ]
  },
  {
   "cell_type": "markdown",
   "id": "16",
   "metadata": {},
   "source": [
    "### Using definitions for filtering\n",
    "\n",
    "The application-definition mechanism can be used for filtering or selecting which children from a group should be loaded.\n",
    "For example, we may wish to exclude certain NeXus classes from loading.\n",
    "We define a custom definition as follows:"
   ]
  },
  {
   "cell_type": "code",
   "execution_count": null,
   "id": "17",
   "metadata": {},
   "outputs": [],
   "source": [
    "import scippnexus as snx\n",
    "\n",
    "\n",
    "def skip(name, obj):\n",
    "    skip_classes = (snx.NXevent_data, snx.NXinstrument)\n",
    "    return isinstance(obj, snx.Group) and (\n",
    "        (obj.nx_class in skip_classes) or (name == 'DASlogs')\n",
    "    )\n",
    "\n",
    "\n",
    "class FilteredEntry(snx.NXobject):\n",
    "    def __init__(self, attrs, children):\n",
    "        children = {\n",
    "            name: child for name, child in children.items() if not skip(name, child)\n",
    "        }\n",
    "        super().__init__(attrs=attrs, children=children)\n",
    "\n",
    "\n",
    "my_definitions = snx.base_definitions()\n",
    "my_definitions['NXentry'] = FilteredEntry"
   ]
  },
  {
   "cell_type": "markdown",
   "id": "18",
   "metadata": {},
   "source": [
    "We can use these definitions as follows:"
   ]
  },
  {
   "cell_type": "code",
   "execution_count": null,
   "id": "19",
   "metadata": {},
   "outputs": [],
   "source": [
    "from scippnexus import data\n",
    "\n",
    "filename = data.get_path('PG3_4844_event.nxs')\n",
    "f = snx.File(filename, definitions=my_definitions)\n",
    "f['entry'][...]"
   ]
  }
 ],
 "metadata": {
  "kernelspec": {
   "display_name": "Python 3 (ipykernel)",
   "language": "python",
   "name": "python3"
  },
  "language_info": {
   "codemirror_mode": {
    "name": "ipython",
    "version": 3
   },
   "file_extension": ".py",
   "mimetype": "text/x-python",
   "name": "python",
   "nbconvert_exporter": "python",
   "pygments_lexer": "ipython3",
   "version": "3.10.14"
  }
 },
 "nbformat": 4,
 "nbformat_minor": 5
}
