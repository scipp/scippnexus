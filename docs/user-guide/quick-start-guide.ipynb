{
 "cells": [
  {
   "cell_type": "markdown",
   "id": "0",
   "metadata": {},
   "source": [
    "# Quick Start Guide"
   ]
  },
  {
   "cell_type": "markdown",
   "id": "1",
   "metadata": {},
   "source": [
    "## Overview\n",
    "\n",
    "The [NeXus Data Format](https://www.nexusformat.org/) is typically used to structure HDF5 files.\n",
    "An HDF5 file is a container for *datasets* and *groups*.\n",
    "Groups are folder-like and work like Python dictionaries.\n",
    "Datasets work like NumPy arrays.\n",
    "In addition, groups and datasets have a dictionary of *attributes*.\n",
    "\n",
    "NeXus extends this with the following:\n",
    "\n",
    "- Definitions for attributes for datasets, in particular a `units` attribute.\n",
    "  In NeXus, datasets are referred to as *field*.\n",
    "- Definitions for attributes and structure of groups.\n",
    "  This includes:\n",
    "  - An `NX_class` attribute, identifying a group as an instance of a particular NeXus class such as [NXdata](https://manual.nexusformat.org/classes/base_classes/NXdata.html) or [NXlog](https://manual.nexusformat.org/classes/base_classes/NXlog.html).\n",
    "  - Attributes that identify which fields contained in the group hold signal values, and which hold axis labels.\n",
    "  \n",
    "In the following we use a file from the [POWGEN](https://neutrons.ornl.gov/powgen) instrument at SNS.\n",
    "It is bundled with ScippNexus and will be downloaded automatically using [pooch](https://pypi.org/project/pooch/) if it is not cached already:"
   ]
  },
  {
   "cell_type": "code",
   "execution_count": null,
   "id": "2",
   "metadata": {},
   "outputs": [],
   "source": [
    "from scippnexus import data\n",
    "\n",
    "filename = data.get_path('PG3_4844_event.nxs')"
   ]
  },
  {
   "cell_type": "markdown",
   "id": "3",
   "metadata": {},
   "source": [
    "## Loading files\n",
    "\n",
    "Given such a NeXus file, we can load the entire file using [snx.load](../generated/functions/scippnexus.load.rst):"
   ]
  },
  {
   "cell_type": "code",
   "execution_count": null,
   "id": "4",
   "metadata": {},
   "outputs": [],
   "source": [
    "import scippnexus as snx\n",
    "\n",
    "data = snx.load(filename)\n",
    "data"
   ]
  },
  {
   "cell_type": "markdown",
   "id": "5",
   "metadata": {},
   "source": [
    "[snx.load](../generated/functions/scippnexus.load.rst) supports selecting part of a file to load:"
   ]
  },
  {
   "cell_type": "code",
   "execution_count": null,
   "id": "6",
   "metadata": {},
   "outputs": [],
   "source": [
    "bank102 = snx.load(filename, root='entry/bank102')\n",
    "bank102"
   ]
  },
  {
   "cell_type": "markdown",
   "id": "7",
   "metadata": {},
   "source": [
    "This is a simpler and less powerful version of the interface described below."
   ]
  },
  {
   "cell_type": "markdown",
   "id": "8",
   "metadata": {},
   "source": [
    "## Opening files\n",
    "\n",
    "It is often useful to only load part of a file or inspecting the file structure without loading any data.\n",
    "ScippNexus provides an interface that is similar to [h5py](https://docs.h5py.org/en/stable/) for this purpose.\n",
    "\n",
    "We first need to open the file using [snx.File](../generated/classes/scippnexus.File.rst).\n",
    "Wherever possible this should be done using a context manager as follows:"
   ]
  },
  {
   "cell_type": "code",
   "execution_count": null,
   "id": "9",
   "metadata": {},
   "outputs": [],
   "source": [
    "import scippnexus as snx\n",
    "\n",
    "with snx.File(filename) as f:\n",
    "    print(list(f.keys()))"
   ]
  },
  {
   "cell_type": "markdown",
   "id": "10",
   "metadata": {},
   "source": [
    "Unfortunately working with a context manager in a Jupyter Notebook is cumbersome, so for the following we open the file directly instead:"
   ]
  },
  {
   "cell_type": "code",
   "execution_count": null,
   "id": "11",
   "metadata": {},
   "outputs": [],
   "source": [
    "f = snx.File(filename)"
   ]
  },
  {
   "cell_type": "markdown",
   "id": "12",
   "metadata": {},
   "source": [
    "## Navigating files"
   ]
  },
  {
   "cell_type": "markdown",
   "id": "13",
   "metadata": {},
   "source": [
    "### Name-based access\n",
    "\n",
    "If there are multiple children with a specific `NX_class` attribute then the aforementioned properties cannot be used.\n",
    "Above we saw that the file contains a single key, `'entry'` (the name could be anything, it just happens to match the class name here).\n",
    "When we access it we can see that it belongs to the class [NXentry](https://manual.nexusformat.org/classes/base_classes/NXentry.html) which is found on the top level in any NeXus file:"
   ]
  },
  {
   "cell_type": "code",
   "execution_count": null,
   "id": "14",
   "metadata": {},
   "outputs": [],
   "source": [
    "entry = f['entry']\n",
    "entry"
   ]
  },
  {
   "cell_type": "markdown",
   "id": "15",
   "metadata": {},
   "source": [
    "We could continue inspecting keys, until we find a group we are interested in.\n",
    "For this example we use the `'proton_charge'` log found within `'DASlogs'`:"
   ]
  },
  {
   "cell_type": "code",
   "execution_count": null,
   "id": "16",
   "metadata": {},
   "outputs": [],
   "source": [
    "proton_charge = entry['DASlogs']['proton_charge']\n",
    "proton_charge"
   ]
  },
  {
   "cell_type": "markdown",
   "id": "17",
   "metadata": {},
   "source": [
    "### Getting all children of a specific `NX_class`\n",
    "\n",
    "The `__getitem__` method can be used with a class imported from `scippnexus` to obtain a dict of all children with a matching `NX_class` attribute.\n",
    "For example, we can get all detectors within the `NXintrument` using:"
   ]
  },
  {
   "cell_type": "code",
   "execution_count": null,
   "id": "18",
   "metadata": {},
   "outputs": [],
   "source": [
    "f['entry/instrument'][snx.NXdetector]"
   ]
  },
  {
   "cell_type": "markdown",
   "id": "19",
   "metadata": {},
   "source": [
    "## Loading groups and datasets"
   ]
  },
  {
   "cell_type": "markdown",
   "id": "20",
   "metadata": {},
   "source": [
    "This `proton_charge` group we \"navigated\" to above is an [NXlog](https://manual.nexusformat.org/classes/base_classes/NXlog.html), which typically contains 1-D data with a time axis.\n",
    "Since ScippNexus knows about NXlog, it knows how to identify its shape:"
   ]
  },
  {
   "cell_type": "code",
   "execution_count": null,
   "id": "21",
   "metadata": {},
   "outputs": [],
   "source": [
    "proton_charge.shape"
   ]
  },
  {
   "cell_type": "markdown",
   "id": "22",
   "metadata": {},
   "source": [
    "<div class=\"alert alert-info\">\n",
    "    <b>Note:</b>\n",
    "\n",
    "This is in contrast to plain HDF5 where groups do *not* have a shape.\n",
    "Note that not all NeXus classes have a defined shape.\n",
    "\n",
    "</div>"
   ]
  },
  {
   "cell_type": "markdown",
   "id": "23",
   "metadata": {},
   "source": [
    "We read the NXlog from the file using the slicing notation.\n",
    "To read the entire group, use ellipses (or an empty tuple):"
   ]
  },
  {
   "cell_type": "code",
   "execution_count": null,
   "id": "24",
   "metadata": {},
   "outputs": [],
   "source": [
    "proton_charge[...]"
   ]
  },
  {
   "cell_type": "markdown",
   "id": "25",
   "metadata": {},
   "source": [
    "Above, ScippNexus automatically dealt with:\n",
    "\n",
    "- Loading the data field (signal value dataset and its `'units'` attribute).\n",
    "- Identifying the dimension labels (here: `'time'`).\n",
    "- Other fields in the group were loaded as coordinates, including:\n",
    "  - Units of the fields.\n",
    "  - Uncertainties of the fields (here for `'average_value'`).\n",
    "  \n",
    "This structure is compatible with a `scipp.DataArray` and is returned as such.\n",
    "\n",
    "We may also load an individual field instead of an entire group.\n",
    "A field corresponds to a `scipp.Variable`, i.e., similar to how h5py represents datasets as NumPy arrays but with an added unit and dimension labels (if applicable).\n",
    "For example, we may load only the `'value'` dataset:"
   ]
  },
  {
   "cell_type": "code",
   "execution_count": null,
   "id": "26",
   "metadata": {},
   "outputs": [],
   "source": [
    "proton_charge['value'][...]"
   ]
  },
  {
   "cell_type": "markdown",
   "id": "27",
   "metadata": {},
   "source": [
    "Attributes of datasets or groups are accessed just like in h5py:"
   ]
  },
  {
   "cell_type": "code",
   "execution_count": null,
   "id": "28",
   "metadata": {},
   "outputs": [],
   "source": [
    "proton_charge['value'].attrs['units']"
   ]
  },
  {
   "cell_type": "markdown",
   "id": "29",
   "metadata": {},
   "source": [
    "A subset of the group (and its datasets) can be loaded by selecting only a slice.\n",
    "We can also plot this directly using the `plot` method of `scipp.DataArray`:"
   ]
  },
  {
   "cell_type": "code",
   "execution_count": null,
   "id": "30",
   "metadata": {},
   "outputs": [],
   "source": [
    "proton_charge['time', 193000:197000].plot()"
   ]
  },
  {
   "cell_type": "markdown",
   "id": "31",
   "metadata": {},
   "source": [
    "As another example, consider the following [NXdata](https://manual.nexusformat.org/classes/base_classes/NXdata.html) group:"
   ]
  },
  {
   "cell_type": "code",
   "execution_count": null,
   "id": "32",
   "metadata": {},
   "outputs": [],
   "source": [
    "bank = f['entry/bank103']\n",
    "print(bank.shape, bank.dims)"
   ]
  },
  {
   "cell_type": "markdown",
   "id": "33",
   "metadata": {},
   "source": [
    "This can be loaded and plotted as above.\n",
    "In this case the resulting data array is 2-D:"
   ]
  },
  {
   "cell_type": "code",
   "execution_count": null,
   "id": "34",
   "metadata": {},
   "outputs": [],
   "source": [
    "da = bank[...]\n",
    "da"
   ]
  },
  {
   "cell_type": "code",
   "execution_count": null,
   "id": "35",
   "metadata": {},
   "outputs": [],
   "source": [
    "da.plot()"
   ]
  },
  {
   "cell_type": "markdown",
   "id": "36",
   "metadata": {},
   "source": [
    "## Writing to files\n",
    "\n",
    "See [application definitions](application-definitions.ipynb#Writing-files) section for documentation about how to write to Nexus files."
   ]
  }
 ],
 "metadata": {
  "kernelspec": {
   "display_name": "Python 3 (ipykernel)",
   "language": "python",
   "name": "python3"
  },
  "language_info": {
   "codemirror_mode": {
    "name": "ipython",
    "version": 3
   },
   "file_extension": ".py",
   "mimetype": "text/x-python",
   "name": "python",
   "nbconvert_exporter": "python",
   "pygments_lexer": "ipython3",
   "version": "3.10.14"
  }
 },
 "nbformat": 4,
 "nbformat_minor": 5
}
